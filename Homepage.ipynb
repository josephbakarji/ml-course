{
 "cells": [
  {
   "cell_type": "markdown",
   "metadata": {},
   "source": [
    "## Data-Driven Methods in Science and Engineering\n",
    "**American University of Beirut - Winter 2022**\n",
    "* `Intructor`: Joseph Bakarji\n",
    "* `Email`: josephbakarji@gmail.com\n",
    "* `Office Hours`: Friday, 9:00-11:00AM\n"
   ]
  },
  {
   "cell_type": "markdown",
   "metadata": {},
   "source": [
    "### Course description\n",
    "\n",
    "Machine learning is everwhere around you, and it's starting to redefine the process of scientific discovery. This course provides a broad introduction to machine learning methods with applications in science and engineering. Topics include: supervised learning (linear/logistic regression, neural networks, support vector machines etc.), unsupervised learning (clustering, PCA, autoencoders), reinforcement learning, and learning theory (variance/bias trade-off, approximation/estimation errors, etc.). The course will emphasize engineering and scientific applications, including: control theory, nonlinear dynamics, fluid dynamics, and materials science. Recent developments in physics-informed machine learning techniques will be discussed, including: sparse identification of nonlinear dynamics (SINDy), dynamic mode decomposition (DMD), and physics-informed neural networks (PINNs).\n",
    "\n",
    "### Course Objectives\n",
    "\n",
    "- Understand the fundamental concepts and principles of machine learning.\n",
    "- Develop proficiency in using machine learning techniques for engineering and scientific applications.\n",
    "- Understand recent developments in physics-informed machine learning techniques.\n",
    "- Be able to apply machine learning techniques to real-world problems in science and engineering.\n",
    "\n",
    "### Course outline\n",
    "\n",
    "#### Week 1\n",
    "\n",
    "- What are artificial intelligence and machine learning?\n",
    "- Overview of supervised, unsupervised, and reinforcement learning.\n",
    "- Linear regression, logistic regression, and support vector machines.\n",
    "- Equation learning. Python tutorial and implementation. \n",
    "- **Homework**: regression basics, data-driven discovery of a physical law, anomaly detection.\n",
    "\n",
    "#### Week 2 \n",
    "\n",
    "- Project discussion. Introduction to deep learning.\n",
    "- Network architectures: fully connected networks, autoencoders, RNNs, CNNs.\n",
    "- Reinforcement learning: application to games, control and autonomous vehicles.\n",
    "- Implementation examples: face recognition, gesture recognition.\n",
    "- **Homework**: fluid flow surrogate modeling, RL of an inverted pendulum\n",
    "\n",
    "#### Week 3\n",
    "\n",
    "- Introduction to unsupervised learning. Singular Value Decomposition (PCA).\n",
    "- Dimensionality reduction, Fourier transform.\n",
    "- K-means clustering, Gaussian mixture models.\n",
    "- Dynamic mode decomposition, anomaly detection.\n",
    "- **Homework**: discover pendulum dynamics from sensor data and video.\n",
    "\n",
    "#### Week 4\n",
    "\n",
    "- Advanced topics and project discussion.\n",
    "- Data-driven dynamical systems and control: SINDy, DMD, PINNs, neural ODEs, Symbolic regression.\n",
    "- Control theory, fluid dynamics, material science and robotics applications.\n",
    "- Project presentations.\n",
    "- **Final Exam**\n"
   ]
  },
  {
   "cell_type": "markdown",
   "metadata": {},
   "source": [
    "### Coursework\n",
    "#### Prerequisites\n",
    "- Calculus and differential equations (Math 201-202)\n",
    "- Linear Algebra (Math 218)\n",
    "- Probability and Statistics (Stat 230)\n",
    "- Programming (EECE 231)\n",
    "\n",
    "We will use Python in this course. \n",
    "If you're not familiar with the language, this is a good opportunity to learn it. \n",
    "I will code examples in class which will help you get used to the syntax. \n",
    "There are a ton of good tutorials online. Here are some of my favourites.\n",
    "\n",
    "#### Homework (45%)\n",
    "Homework will be given on Thursdays and will be due on the first day of the following week (Tuesdays when Mondays are off).\n",
    "\n",
    "#### Project (30%)\n",
    "The final project will be open-ended. Graduate students are encouraged to apply machine learning tools to data collected from their own research projects. Undergraduates are encouraged to request experimental or simulation data from research groups on campus. This is an opportunity to learn about data collection, visualization, and cleaning. \n",
    "\n",
    "#### Final Exam (20%)\n",
    "The final exam will be a 2 hour exam on the last day of classes. \n",
    "\n",
    "#### Participation (5%)\n",
    "Particiption in class and online is highly encouraged. I will start a Slack workspace where I will share course work and information with you online. People who ask and answer questions on Slack, and share useful material with the rest of the class will be given extra points. \n",
    "\n",
    "#### References\n",
    "\n",
    "- Brunton, S. L., & Kutz, J. N. (2022). Data-driven science and engineering: Machine learning, dynamical systems, and control. Cambridge University Press.\n",
    "- Géron, A. (2022). Hands-on machine learning with Scikit-Learn, Keras, and TensorFlow. \" O'Reilly Media, Inc.\".\n",
    "- Kutz, J. N. (2013). Data-driven modeling & scientific computation: methods for complex systems & big data. Oxford University Press.\n",
    "\n"
   ]
  },
  {
   "cell_type": "markdown",
   "metadata": {},
   "source": []
  }
 ],
 "metadata": {
  "kernelspec": {
   "display_name": "Python 3.8.5 ('base')",
   "language": "python",
   "name": "python3"
  },
  "language_info": {
   "name": "python",
   "version": "3.8.5"
  },
  "orig_nbformat": 4,
  "vscode": {
   "interpreter": {
    "hash": "1cec93c3674bfd1afa4b15c70c9d9dc0c8affa484b58136f14c49e79b9d4b788"
   }
  }
 },
 "nbformat": 4,
 "nbformat_minor": 2
}
